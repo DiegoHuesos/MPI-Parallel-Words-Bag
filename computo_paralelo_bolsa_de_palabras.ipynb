{
  "cells": [
    {
      "attachments": {},
      "cell_type": "markdown",
      "metadata": {
        "id": "I91ZHcL0HNg0"
      },
      "source": [
        "# Librerías "
      ]
    },
    {
      "cell_type": "code",
      "execution_count": null,
      "metadata": {
        "id": "GXaVJCQoHNg2"
      },
      "outputs": [],
      "source": [
        "import pandas as pd\n",
        "import numpy as np\n",
        "import re\n",
        "import nltk\n",
        "import matplotlib.pyplot as plt"
      ]
    },
    {
      "attachments": {},
      "cell_type": "markdown",
      "metadata": {
        "id": "kZeM22TMHNg2"
      },
      "source": [
        "# Corpus etiquetado"
      ]
    },
    {
      "cell_type": "code",
      "execution_count": null,
      "metadata": {
        "colab": {
          "base_uri": "https://localhost:8080/",
          "height": 237
        },
        "id": "gLsxgk03HNg2",
        "outputId": "7c8a46a5-62e0-48ea-a8b3-c9355578a86c"
      },
      "outputs": [],
      "source": [
        "etiquetas = [\"shakespeare_the_merchant_of_venice\", \n",
        "             \"shakespeare_romeo_juliet\", \n",
        "             \"shakespeare_hamlet\", \n",
        "             \"dickens_a_christmas_carol\", \n",
        "             \"dickens_oliver_twist\",\n",
        "             \"dickens_a_tale_of_two_cities\"]\n",
        "corpus = []\n",
        "\n",
        "for etiqueta in etiquetas:\n",
        "  archivo = open(\"./Books/\"etiqueta + \".txt\", \"r\")\n",
        "  corpus.append(archivo.read())\n",
        "  archivo.close()\n",
        "\n",
        "etiquetas = [\"shakespeare_the_merchant_of_venice\", \n",
        "             \"shakespeare_romeo_juliet\", \n",
        "             \"shakespeare_hamlet\", \n",
        "             \"dickens_a_christmas_carol\", \n",
        "             \"dickens_oliver_twist\",\n",
        "             \"dickens_a_tale_of_two_cities\"]\n",
        "\n",
        "corpus = np.array(corpus)\n",
        "df_corpus = pd.DataFrame({\"documento\": corpus, \n",
        "                          \"categoria\": etiquetas})\n",
        "df_corpus"
      ]
    },
    {
      "attachments": {},
      "cell_type": "markdown",
      "metadata": {
        "id": "Oc39WakxHNg4"
      },
      "source": [
        "# Modelo de Bolsa de Palabras"
      ]
    },
    {
      "cell_type": "code",
      "execution_count": null,
      "metadata": {
        "colab": {
          "base_uri": "https://localhost:8080/"
        },
        "id": "rPXPWGO3HNg4",
        "outputId": "a6af09ef-2af2-4bac-ee71-4c8c0ba5c46c"
      },
      "outputs": [],
      "source": [
        "from sklearn.feature_extraction.text import CountVectorizer\n",
        "# bolsa de palabras en matriz dispersa\n",
        "count_vectorizer = CountVectorizer(min_df=0.0, max_df=1.0)\n",
        "matriz_conteo = count_vectorizer.fit_transform(corpus)\n",
        "matriz_conteo"
      ]
    },
    {
      "cell_type": "code",
      "execution_count": null,
      "metadata": {
        "colab": {
          "base_uri": "https://localhost:8080/"
        },
        "id": "rrn5A4sVHNg4",
        "outputId": "745c7006-5dd9-401f-e16a-2c2187a991be"
      },
      "outputs": [],
      "source": [
        "# ver valores diferentes de cero en la matriz dispersa\n",
        "print(matriz_conteo)"
      ]
    },
    {
      "cell_type": "code",
      "execution_count": null,
      "metadata": {
        "colab": {
          "base_uri": "https://localhost:8080/"
        },
        "id": "OzmdRBZ_HNg5",
        "outputId": "aade9b03-afac-40ae-b402-2d979cefaa72"
      },
      "outputs": [],
      "source": [
        "# ver la representación densa\n",
        "matriz_conteo = matriz_conteo.toarray()\n",
        "matriz_conteo"
      ]
    },
    {
      "cell_type": "code",
      "execution_count": null,
      "metadata": {
        "colab": {
          "base_uri": "https://localhost:8080/",
          "height": 331
        },
        "id": "_tyv80qCHNg5",
        "outputId": "ecbffa4b-9b49-4a24-c928-e9ec7e4fe542"
      },
      "outputs": [],
      "source": [
        "# obten todas las palabras únicas del corpus\n",
        "vocabulario = count_vectorizer.get_feature_names_out()\n",
        "# muestra los vectores de características del documento\n",
        "pd.DataFrame(matriz_conteo, columns=vocabulario)"
      ]
    },
    {
      "attachments": {},
      "cell_type": "markdown",
      "metadata": {
        "id": "XUSYpkbLwUIl"
      },
      "source": [
        "#Vocabulario (número de columnas de la matriz)"
      ]
    },
    {
      "cell_type": "code",
      "execution_count": null,
      "metadata": {
        "colab": {
          "base_uri": "https://localhost:8080/"
        },
        "id": "7yhoSszswSoP",
        "outputId": "f7e57695-815d-4e9b-d761-25061e3cf9cf"
      },
      "outputs": [],
      "source": [
        "print(len(vocabulario), vocabulario)"
      ]
    },
    {
      "cell_type": "code",
      "execution_count": null,
      "metadata": {
        "colab": {
          "base_uri": "https://localhost:8080/"
        },
        "id": "uKnwKolG8Ly3",
        "outputId": "ec024077-1a69-47a5-decc-14d20a9180f7"
      },
      "outputs": [],
      "source": [
        "type(vocabulario)"
      ]
    },
    {
      "cell_type": "code",
      "execution_count": null,
      "metadata": {
        "id": "51Bve3ez9G6A"
      },
      "outputs": [],
      "source": [
        "# Save the array as a CSV file\n",
        "np.savetxt('vocabulario.csv', vocabulario, delimiter=',', fmt='%s')"
      ]
    }
  ],
  "metadata": {
    "anaconda-cloud": {},
    "colab": {
      "provenance": []
    },
    "kernelspec": {
      "display_name": "Python 3 (ipykernel)",
      "language": "python",
      "name": "python3"
    },
    "language_info": {
      "codemirror_mode": {
        "name": "ipython",
        "version": 3
      },
      "file_extension": ".py",
      "mimetype": "text/x-python",
      "name": "python",
      "nbconvert_exporter": "python",
      "pygments_lexer": "ipython3",
      "version": "3.9.13"
    }
  },
  "nbformat": 4,
  "nbformat_minor": 0
}
